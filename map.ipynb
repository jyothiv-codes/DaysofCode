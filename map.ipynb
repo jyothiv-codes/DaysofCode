{
 "cells": [
  {
   "cell_type": "code",
   "execution_count": 15,
   "metadata": {},
   "outputs": [],
   "source": [
    "import folium \n",
    "  \n",
    "sirkazhi = folium.Map(location = [11.2391, 79.7361], zoom_start = 10 )  #co-ordinates of Sirkazhi [in Tamilnadu]\n",
    "  \n",
    "# save method of Map object will create a map \n",
    "sirkazhi.save(\" m1.html \" ) #save the map as a html page"
   ]
  },
  {
   "cell_type": "code",
   "execution_count": 18,
   "metadata": {},
   "outputs": [],
   "source": [
    "\n",
    "# import folium package \n",
    "import folium \n",
    "  \n",
    "tn = folium.Map(location = [11.1271, 78.6569], \n",
    "                                         zoom_start = 8) #zoom to the level of 8\n",
    "  \n",
    "# CircleMarker with radius \n",
    "folium.CircleMarker(location = [11.2391, 79.7361], \n",
    "                    radius = 30).add_to(tn) #radius of the marker is 30\n",
    "\n",
    "folium.CircleMarker(location = [11.0168, 76.9558], \n",
    "                    radius = 30).add_to(tn) \n",
    "folium.CircleMarker(location = [13.0827, 80.2707], \n",
    "                    radius = 30).add_to(tn) \n",
    "\n",
    "# save as html \n",
    "tn.save(\" tn.html \") \n"
   ]
  },
  {
   "cell_type": "code",
   "execution_count": null,
   "metadata": {},
   "outputs": [],
   "source": []
  }
 ],
 "metadata": {
  "kernelspec": {
   "display_name": "Python 3",
   "language": "python",
   "name": "python3"
  },
  "language_info": {
   "codemirror_mode": {
    "name": "ipython",
    "version": 3
   },
   "file_extension": ".py",
   "mimetype": "text/x-python",
   "name": "python",
   "nbconvert_exporter": "python",
   "pygments_lexer": "ipython3",
   "version": "3.7.4"
  }
 },
 "nbformat": 4,
 "nbformat_minor": 2
}
